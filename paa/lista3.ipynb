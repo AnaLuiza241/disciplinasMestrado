{
 "cells": [
  {
   "cell_type": "code",
   "execution_count": 6,
   "metadata": {},
   "outputs": [
    {
     "name": "stdout",
     "output_type": "stream",
     "text": [
      "1\n"
     ]
    }
   ],
   "source": [
    "# 1. Print 1 to n without using loops.\n",
    "\n",
    "def print1toN (n):\n",
    "    if n > 1:\n",
    "        print1toN(n-1)\n",
    "    print(n)\n",
    "\n",
    "\n",
    "print1toN(5)"
   ]
  },
  {
   "cell_type": "code",
   "execution_count": 8,
   "metadata": {},
   "outputs": [
    {
     "name": "stdout",
     "output_type": "stream",
     "text": [
      "8\n",
      "7\n",
      "6\n",
      "5\n",
      "4\n",
      "3\n",
      "2\n",
      "1\n"
     ]
    }
   ],
   "source": [
    "# 2. Print N to 1 without loop.\n",
    "\n",
    "def printNto1 (n):\n",
    "    print(n)\n",
    "    if n > 1:\n",
    "        printNto1(n-1)\n",
    "\n",
    "printNto1(8)        \n"
   ]
  },
  {
   "cell_type": "code",
   "execution_count": 15,
   "metadata": {},
   "outputs": [
    {
     "name": "stdout",
     "output_type": "stream",
     "text": [
      "3.0\n",
      "30.0\n",
      "1.0\n"
     ]
    }
   ],
   "source": [
    "# 3. Mean of an Array using Recursion.\n",
    "\n",
    "def soma (arr):\n",
    "    n = len(arr)\n",
    "    if n == 1:\n",
    "        return arr[0]\n",
    "    return arr[0] + soma(arr[1:])\n",
    "\n",
    "def media (arr):\n",
    "    n = len(arr)\n",
    "    return soma(arr) / n\n",
    "\n",
    "print(media([1, 2, 3, 4, 5]))\n",
    "print(media([10, 20, 30, 40, 50]))\n",
    "print(media([1]))"
   ]
  },
  {
   "cell_type": "code",
   "execution_count": 18,
   "metadata": {},
   "outputs": [
    {
     "name": "stdout",
     "output_type": "stream",
     "text": [
      "15\n",
      "55\n",
      "1\n"
     ]
    }
   ],
   "source": [
    "# 4. Sum of natural numbers using recursion.\n",
    "\n",
    "def somaN (n):\n",
    "    if n == 1:\n",
    "        return 1\n",
    "    return n + somaN(n-1)\n",
    "\n",
    "print(somaN(5))\n",
    "print(somaN(10))\n",
    "print(somaN(1))"
   ]
  },
  {
   "cell_type": "code",
   "execution_count": 27,
   "metadata": {},
   "outputs": [
    {
     "name": "stdout",
     "output_type": "stream",
     "text": [
      "[1, 0, 1, 0]\n",
      "[1, 1, 1, 1]\n",
      "[1, 0, 1, 0, 0, 1, 0, 1]\n"
     ]
    }
   ],
   "source": [
    "# 5. Decimal to binary number using recursion.\n",
    "\n",
    "def decimalToBinario (n):\n",
    "    if (n // 2) == 0:\n",
    "        return [n % 2]\n",
    "    return decimalToBinario(n // 2) + [n % 2]\n",
    "\n",
    "print(decimalToBinario(10))\n",
    "print(decimalToBinario(15))\n",
    "print(decimalToBinario(165))"
   ]
  },
  {
   "cell_type": "code",
   "execution_count": 28,
   "metadata": {},
   "outputs": [
    {
     "name": "stdout",
     "output_type": "stream",
     "text": [
      "15\n",
      "100\n",
      "5\n"
     ]
    }
   ],
   "source": [
    "# 6. Sum of array elements using recursion.\n",
    "\n",
    "def soma (arr):\n",
    "    n = len(arr)\n",
    "    if n == 1:\n",
    "        return arr[0]\n",
    "    return arr[0] + soma(arr[1:])\n",
    "\n",
    "print(soma([1, 2, 3, 4, 5]))\n",
    "print(soma([10, 20, 30, 40]))\n",
    "print(soma([5]))"
   ]
  },
  {
   "cell_type": "code",
   "execution_count": 39,
   "metadata": {},
   "outputs": [
    {
     "name": "stdout",
     "output_type": "stream",
     "text": [
      "\n",
      "\n",
      "olleh\n",
      "\n",
      "noisrucer"
     ]
    }
   ],
   "source": [
    "# 7. Print reverse of a string using recursion.\n",
    "\n",
    "def reverseString (str):\n",
    "    if str == '':\n",
    "        print('\\n')\n",
    "        return\n",
    "    reverseString(str[1:])\n",
    "    print(str[0], end='')\n",
    "\n",
    "reverseString('hello')\n",
    "reverseString('recursion')"
   ]
  },
  {
   "cell_type": "code",
   "execution_count": 38,
   "metadata": {},
   "outputs": [
    {
     "name": "stdout",
     "output_type": "stream",
     "text": [
      "5\n",
      "9\n"
     ]
    }
   ],
   "source": [
    "# 8. Program for length of a string using recursion.\n",
    "\n",
    "def lenString (str):\n",
    "    if str == '':\n",
    "        return 0\n",
    "    return 1 + lenString(str[1:])\n",
    "\n",
    "print(lenString('hello'))\n",
    "print(lenString('recursion')) "
   ]
  },
  {
   "cell_type": "code",
   "execution_count": 6,
   "metadata": {},
   "outputs": [
    {
     "name": "stdout",
     "output_type": "stream",
     "text": [
      "10\n",
      "30\n",
      "1\n"
     ]
    }
   ],
   "source": [
    "# 9. Sum of digits of a number using recursion.\n",
    "\n",
    "def somaDigitos (n):\n",
    "    if n < 10:\n",
    "        return (n % 10)\n",
    "    return (n % 10) + somaDigitos(n // 10)\n",
    "\n",
    "print(somaDigitos(1234))\n",
    "print(somaDigitos(9876))\n",
    "print(somaDigitos(10))"
   ]
  },
  {
   "cell_type": "code",
   "execution_count": 7,
   "metadata": {},
   "outputs": [
    {
     "name": "stdout",
     "output_type": "stream",
     "text": [
      "10\n",
      "50\n"
     ]
    }
   ],
   "source": [
    "# 10. Tail recursion to calculate sum of array elements.\n",
    "\n",
    "def soma (arr):\n",
    "    if len(arr) == 1:\n",
    "        return arr[0]\n",
    "    return arr[0] + soma(arr[1:])\n",
    "\n",
    "print(soma([1, 2, 3, 4]))\n",
    "print(soma([5, 10, 15, 20]))"
   ]
  },
  {
   "cell_type": "code",
   "execution_count": 15,
   "metadata": {},
   "outputs": [
    {
     "name": "stdout",
     "output_type": "stream",
     "text": [
      "\n",
      "\n",
      "0 1 1 2 3 \n",
      "\n",
      "0 1 1 2 3 5 8 "
     ]
    }
   ],
   "source": [
    "# 11. Program to print first n Fibonacci Numbers.\n",
    "\n",
    "def fibonacci(n):\n",
    "    if n == 1:\n",
    "        return 0\n",
    "    if n == 2:\n",
    "        return 1\n",
    "    return fibonacci(n-1) + fibonacci(n-2)\n",
    "\n",
    "def printFibo(n):\n",
    "    if n == 0:\n",
    "        print('\\n')\n",
    "        return\n",
    "    printFibo(n-1)\n",
    "    print(fibonacci(n), end=\" \")\n",
    "\n",
    "printFibo(5)\n",
    "printFibo(7)"
   ]
  },
  {
   "cell_type": "code",
   "execution_count": null,
   "metadata": {},
   "outputs": [],
   "source": []
  }
 ],
 "metadata": {
  "kernelspec": {
   "display_name": "Python 3",
   "language": "python",
   "name": "python3"
  },
  "language_info": {
   "codemirror_mode": {
    "name": "ipython",
    "version": 3
   },
   "file_extension": ".py",
   "mimetype": "text/x-python",
   "name": "python",
   "nbconvert_exporter": "python",
   "pygments_lexer": "ipython3",
   "version": "3.10.12"
  }
 },
 "nbformat": 4,
 "nbformat_minor": 2
}
