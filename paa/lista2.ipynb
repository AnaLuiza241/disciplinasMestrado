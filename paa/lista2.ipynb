{
 "cells": [
  {
   "cell_type": "markdown",
   "metadata": {},
   "source": [
    "# Lista de Exercícios 2\n",
    "\n",
    "## Arrays"
   ]
  },
  {
   "cell_type": "markdown",
   "metadata": {},
   "source": [
    "1. Missing in Array\n",
    "\n",
    "Dificuldade: Fácil\n",
    "\n",
    "Dado um array arr de tamanho n−1 que contém inteiros distintos no intervalo de 1 a n (inclusive),\n",
    "encontre o elemento faltante. O array é uma permutação de tamanho n com um elemento faltando.\n",
    "Retorne o elemento faltante.\n",
    "\n",
    "Exemplos:\n",
    "• Entrada: n = 5, arr = [1, 2, 3, 5]\n",
    "Saída: 4\n",
    "Explicação: Todos os números de 1 a 5 estão presentes, exceto 4.\n",
    "• Entrada: n = 2, arr = [1]\n",
    "Saída: 2\n",
    "Explicação: Todos os números de 1 a 2 estão presentes, exceto 2.\n",
    "\n",
    "Complexidade de Tempo Esperada: O(n)\n",
    "Complexidade de Espaço Auxiliar Esperada: O(1)\n"
   ]
  },
  {
   "cell_type": "code",
   "execution_count": 2,
   "metadata": {},
   "outputs": [
    {
     "name": "stdout",
     "output_type": "stream",
     "text": [
      "4\n",
      "2\n",
      "7\n",
      "1\n"
     ]
    }
   ],
   "source": [
    "def faltante(arr, n):\n",
    "    aux = 1\n",
    "    for i in range(n-1):\n",
    "        if aux != arr[i]:\n",
    "            return aux\n",
    "        aux += 1\n",
    "    return aux\n",
    "\n",
    "l = [1,2,3,5]\n",
    "l1 = [1]\n",
    "l2 = [1,2,3,4,5,6,8]\n",
    "l3 = [2,3,4,5,6,7]\n",
    "\n",
    "print(faltante(l, 5))\n",
    "print(faltante(l1, 2))\n",
    "print(faltante(l2, 8))\n",
    "print(faltante(l3, 7))"
   ]
  },
  {
   "cell_type": "markdown",
   "metadata": {},
   "source": [
    "2. Array Leaders\n",
    "\n",
    "Dificuldade: Fácil\n",
    "\n",
    "Dado um array arr de n inteiros positivos, sua tarefa é encontrar todos os líderes no array. Um\n",
    "elemento do array é considerado um líder se ele for maior que todos os elementos à sua direita ou\n",
    "se for igual ao elemento máximo à sua direita. O elemento mais à direita é sempre um líder.\n",
    "\n",
    "Exemplos:\n",
    "• Entrada: n = 6, arr = [16, 17, 4, 3, 5, 2]\n",
    "Saída: 17 5 2\n",
    "Explicação: Não há nada maior à direita de 17, 5 e 2.\n",
    "• Entrada: n = 5, arr = [10, 4, 2, 4, 1]\n",
    "Saída: 10 4 4 1\n",
    "Explicação: Ambas as ocorrências de 4 estão na saída, pois ser igual ao maior elemento à\n",
    "direita também é permitido.\n",
    "\n",
    "Complexidade de Tempo Esperada: O(n)\n",
    "Complexidade de Espaço Auxiliar Esperada: O(n)"
   ]
  },
  {
   "cell_type": "code",
   "execution_count": 14,
   "metadata": {},
   "outputs": [
    {
     "name": "stdout",
     "output_type": "stream",
     "text": [
      "[17, 5, 2]\n",
      "[10, 4, 4, 1]\n",
      "[10]\n",
      "[9, 8, 7, 6, 5, 4, 3, 2, 1, 0]\n"
     ]
    }
   ],
   "source": [
    "def lideres (arr, n):\n",
    "    aux = []\n",
    "\n",
    "    for i in range(n-1):\n",
    "        elem = arr [i]\n",
    "        flag = 0\n",
    "        \n",
    "        for j in range(1+i, n):\n",
    "            if arr[j] > elem:\n",
    "                flag = 1\n",
    "                continue\n",
    "        \n",
    "        if flag == 0:\n",
    "            aux.append(elem)\n",
    "    \n",
    "    aux.append(arr[n-1])\n",
    "    return aux\n",
    "\n",
    "\n",
    "print(lideres([16,17,4,3,5,2],6))\n",
    "print(lideres([10,4,2,4,1],5))\n",
    "print(lideres([1,2,3,4,5,6,7,8,9,10],10))\n",
    "print(lideres([9,8,7,6,5,4,3,2,1,0],10))"
   ]
  },
  {
   "cell_type": "markdown",
   "metadata": {},
   "source": [
    "3. Second Largest\n",
    "\n",
    "Dificuldade: Fácil\n",
    "Dado um array arr, retorne o segundo maior elemento distinto do array. Se o segundo maior\n",
    "elemento não existir, retorne -1.\n",
    "\n",
    "Exemplos:\n",
    "• Entrada: arr = [12, 35, 1, 10, 34, 1]\n",
    "Saída: 34\n",
    "Explicação: O maior elemento do array é 35 e o segundo maior é 34.\n",
    "• Entrada: arr = [10, 10]\n",
    "Saída: -1\n",
    "Explicação: O maior elemento do array é 10 e o segundo maior elemento não existe, então\n",
    "a resposta é -1.\n",
    "\n",
    "Complexidade de Tempo Esperada: O(n)\n",
    "Complexidade de Espaço Auxiliar Esperada: O(1)"
   ]
  },
  {
   "cell_type": "code",
   "execution_count": 23,
   "metadata": {},
   "outputs": [
    {
     "name": "stdout",
     "output_type": "stream",
     "text": [
      "34\n",
      "-1\n",
      "88\n",
      "95\n"
     ]
    }
   ],
   "source": [
    "def segundo_maior (arr):\n",
    "    maior = arr[0]\n",
    "    segundo_maior = -9999999\n",
    "    flag = 0\n",
    "    \n",
    "    for i in range(1, len(arr)):\n",
    "        if arr[i] > maior:\n",
    "            segundo_maior = maior\n",
    "            maior = arr[i]\n",
    "            flag = 1\n",
    "        if (arr[i] < maior) & (arr[i] > segundo_maior):\n",
    "            segundo_maior = arr[i]\n",
    "            flag = 1\n",
    "    \n",
    "    if flag == 1:\n",
    "        return segundo_maior\n",
    "    return -1\n",
    "\n",
    "\n",
    "print(segundo_maior([12,35,1,10,34,1]))\n",
    "print(segundo_maior([10,10]))\n",
    "print(segundo_maior([88,95, 10, 15]))\n",
    "print(segundo_maior([88,100, 95, 10, 15]))"
   ]
  },
  {
   "cell_type": "markdown",
   "metadata": {},
   "source": [
    "4. Kadane’s Algorithm\n",
    "\n",
    "Dificuldade: Média\n",
    "Dado um array de inteiros arr[]. Encontre o subarray contíguo (contendo pelo menos um número)\n",
    "que tem a soma máxima e retorne sua soma.\n",
    "\n",
    "Exemplos:\n",
    "• Entrada: arr[] = [1, 2, 3, -2, 5]\n",
    "Saída: 9\n",
    "Explicação: A soma m´axima do subarray ´e 9, composta pelos elementos [1, 2, 3, -2, 5].\n",
    "• Entrada: arr[] = [-1, -2, -3, -4]\n",
    "Saída: -1\n",
    "Explicação: A soma máxima do subarray é -1, composta pelo elemento [-1].\n",
    "\n",
    "Complexidade de Tempo Esperada: O(n)\n",
    "Complexidade de Espaço Auxiliar Esperada: O(1)\n"
   ]
  },
  {
   "cell_type": "code",
   "execution_count": 28,
   "metadata": {},
   "outputs": [
    {
     "name": "stdout",
     "output_type": "stream",
     "text": [
      "9\n"
     ]
    }
   ],
   "source": [
    "def kadane (arr):\n",
    "    soma = arr[0]\n",
    "    \n",
    "    for i in range(1, len(arr)):\n",
    "        if (soma + arr[i]) > soma:\n",
    "            soma = soma + arr[i]\n",
    "            if (soma) < (arr[i]):\n",
    "                soma = arr[i]\n",
    "    return soma \n",
    "\n",
    "print(kadane([1,2,3,-2,5]))\n"
   ]
  },
  {
   "cell_type": "markdown",
   "metadata": {},
   "source": [
    "5. Indexes of Subarray Sum\n",
    "\n",
    "Dificuldade: Média\n",
    "Dado um array não ordenado arr de tamanho n que contém apenas inteiros não-negativos, encontre um subarray (elementos cont´ınuos) que tenha soma igual a s. Você deve retornar os ´ındices\n",
    "esquerdo e direito (indexa¸c˜ao baseada em 1) desse subarray.\n",
    "No caso de m´ultiplos subarrays, retorne os ´ındices do subarray que aparece primeiro ao mover da\n",
    "esquerda para a direita. Se nenhum subarray existir, retorne um array contendo o elemento -1.\n",
    "Exemplos:\n",
    "• Entrada: arr[] = [1,2,3,7,5], n = 5, s = 12\n",
    "Sa´ıda: 2 4\n",
    "Explica¸c˜ao: A soma dos elementos da 2ª `a 4ª posi¸c˜ao ´e 12.\n",
    "• Entrada: arr[] = [1,2,3,4,5,6,7,8,9,10], n = 10, s = 15 Sa´ıda: 1 5\n",
    "Explica¸c˜ao: A soma dos elementos da 1ª `a 5ª posi¸c˜ao ´e 15.\n",
    "Complexidade de Tempo Esperada: O(n)\n",
    "Complexidade de Espa¸co Auxiliar Esperada: O(1)"
   ]
  },
  {
   "cell_type": "code",
   "execution_count": null,
   "metadata": {},
   "outputs": [],
   "source": []
  }
 ],
 "metadata": {
  "kernelspec": {
   "display_name": "Python 3",
   "language": "python",
   "name": "python3"
  },
  "language_info": {
   "codemirror_mode": {
    "name": "ipython",
    "version": 3
   },
   "file_extension": ".py",
   "mimetype": "text/x-python",
   "name": "python",
   "nbconvert_exporter": "python",
   "pygments_lexer": "ipython3",
   "version": "3.10.12"
  }
 },
 "nbformat": 4,
 "nbformat_minor": 2
}
